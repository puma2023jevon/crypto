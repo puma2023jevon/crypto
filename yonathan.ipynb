{
  "nbformat": 4,
  "nbformat_minor": 0,
  "metadata": {
    "colab": {
      "provenance": [],
      "authorship_tag": "ABX9TyODVx6DdJ/GDhLGHYARrLy3",
      "include_colab_link": true
    },
    "kernelspec": {
      "name": "python3",
      "display_name": "Python 3"
    },
    "language_info": {
      "name": "python"
    }
  },
  "cells": [
    {
      "cell_type": "markdown",
      "metadata": {
        "id": "view-in-github",
        "colab_type": "text"
      },
      "source": [
        "<a href=\"https://colab.research.google.com/github/puma2023jevon/crypto/blob/main/yonathan.ipynb\" target=\"_parent\"><img src=\"https://colab.research.google.com/assets/colab-badge.svg\" alt=\"Open In Colab\"/></a>"
      ]
    },
    {
      "cell_type": "code",
      "execution_count": null,
      "metadata": {
        "colab": {
          "base_uri": "https://localhost:8080/"
        },
        "id": "P82JYtEqZLlG",
        "outputId": "c982ad25-580a-458f-d1e1-e63b69315e8c"
      },
      "outputs": [
        {
          "output_type": "stream",
          "name": "stdout",
          "text": [
            "     Trade #        Entry Date         Exit Date  Entry Price  Exit Price  \\\n",
            "0          2  2016-01-11 06:00  2016-01-22 16:00       445.50      383.02   \n",
            "1          3  2016-01-22 16:00  2016-02-15 10:00       383.02      399.94   \n",
            "2          4  2016-02-15 10:00  2016-02-22 00:00       399.94      436.66   \n",
            "3          5  2016-02-22 00:00  2016-03-28 12:00       436.66      424.78   \n",
            "4          6  2016-03-28 12:00  2016-04-25 10:00       424.78      457.64   \n",
            "..       ...               ...               ...          ...         ...   \n",
            "156      158  2023-10-02 20:00  2023-10-23 22:00     27493.70    34072.65   \n",
            "157      159  2023-10-23 22:00  2023-11-03 08:00     34072.65    34262.16   \n",
            "158      160  2023-11-03 08:00  2023-11-13 02:00     34262.16    36942.27   \n",
            "159      161  2023-11-13 02:00  2023-11-16 18:00     36942.27    35916.90   \n",
            "160        1              None  2016-01-11 06:00          NaN      445.50   \n",
            "\n",
            "     % Profit  Profit USD  Cum. Profit USD  \n",
            "0       -5.78    -5683.33         -7294.28  \n",
            "1        0.56      518.58         -6775.70  \n",
            "2        1.11     1030.33         -5745.36  \n",
            "3       -1.14    -1073.28         -6818.65  \n",
            "4        2.24     2086.94         -4731.71  \n",
            "..        ...         ...              ...  \n",
            "156     21.78  3546078.24      19726977.29  \n",
            "157     -3.40  -673857.88      19053119.42  \n",
            "158      1.16   222691.32      19275810.73  \n",
            "159     -4.46  -864306.29      18411504.44  \n",
            "160     -1.61    -1610.95         -1610.95  \n",
            "\n",
            "[161 rows x 8 columns]\n"
          ]
        }
      ],
      "source": [
        "run main.py"
      ]
    }
  ]
}